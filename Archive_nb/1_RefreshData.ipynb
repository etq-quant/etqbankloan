{
 "cells": [
  {
   "cell_type": "code",
   "execution_count": 1,
   "metadata": {},
   "outputs": [
    {
     "data": {
      "text/plain": [
       "'C:/Users/jy/AppData/Local/bipy/31094803/projects/57754191e2d34b7296075e94c545cc4d'"
      ]
     },
     "execution_count": 1,
     "metadata": {},
     "output_type": "execute_result"
    }
   ],
   "source": [
    "import os\n",
    "os.getcwd().replace('\\\\','/')"
   ]
  },
  {
   "cell_type": "code",
   "execution_count": 2,
   "metadata": {},
   "outputs": [
    {
     "name": "stdout",
     "output_type": "stream",
     "text": [
      "Refreshed data: 2022-05-05 00:00:00\n"
     ]
    }
   ],
   "source": [
    "import sys\n",
    "\n",
    "sys.path.append('./Lib')\n",
    "from etiqalib import *\n",
    "from etiqalib.config import *\n",
    "from etiqalib.bqfields import BaseGetData\n",
    "from datetime import datetime\n",
    "\n",
    "read = False\n",
    "\n",
    "bq = bql.Service()\n",
    "def px_function(bq, ticker, start, end):\n",
    "    bqapi = BaseGetData(bq)\n",
    "    dff = bqapi.get_data(ticker,{'px_last':bq.data.px_last(start=start, end=end, **fillprev)})\n",
    "    return dff.drop('CURRENCY',1).dropna(subset=['px_last'])\n",
    "    \n",
    "start_date = '1998-01-01'\n",
    "end_date = datetime.today().date().isoformat()\n",
    "\n",
    "if not read:\n",
    "    opr_df = download_incremental(bq, 'MAOPRATE Index',px_function, start_date, end_date)\n",
    "    srr_df = download_incremental(bq, 'MAOPSRR Index',px_function, start_date, end_date)\n",
    "    m3_df = download_incremental(bq, 'MAMS3YOY Index',px_function, start_date, end_date)\n",
    "    magy10yr = download_incremental(bq, 'MAGY10YR Index',px_function, start_date, end_date)\n",
    "    price_df = download_incremental(bq, 'FBMKLCI Index', px_function, start_date, end_date)\n",
    "    \n",
    "    opr_df.to_csv('data/opr/opr_rate.csv')\n",
    "    srr_df.to_csv('data/opr/srr_rate.csv')\n",
    "    m3_df.to_csv('data/opr/m3_rate.csv')\n",
    "    magy10yr.to_csv('data/opr/magy10yr.csv')\n",
    "    price_df.to_csv('data/opr/fbmklci.csv')\n",
    "    dt = opr_df[\"DATE\"].max()\n",
    "    print(f\"Refreshed data: {dt}\")\n",
    "else:\n",
    "    opr_df = pd.read_csv('data/opr/opr_rate.csv', parse_dates=['DATE'])\n",
    "    srr_df = pd.read_csv('data/opr/srr_rate.csv', parse_dates=['DATE'])\n",
    "    m3_df = pd.read_csv('data/opr/m3_rate.csv', parse_dates=['DATE'])\n",
    "    magy10yr = pd.read_csv('data/opr/magy10yr.csv', parse_dates=['DATE'])\n",
    "    price_df = pd.read_csv('data/opr/fbmklci.csv', parse_dates=['DATE'])"
   ]
  },
  {
   "cell_type": "code",
   "execution_count": 3,
   "metadata": {},
   "outputs": [],
   "source": [
    "srr_df = pd.read_csv('data/opr/srr_rate.csv', parse_dates=['DATE'])"
   ]
  },
  {
   "cell_type": "code",
   "execution_count": null,
   "metadata": {},
   "outputs": [],
   "source": []
  }
 ],
 "metadata": {
  "kernelspec": {
   "display_name": "Python 3 (ipykernel)",
   "language": "python",
   "name": "python3"
  },
  "language_info": {
   "codemirror_mode": {
    "name": "ipython",
    "version": 3
   },
   "file_extension": ".py",
   "mimetype": "text/x-python",
   "name": "python",
   "nbconvert_exporter": "python",
   "pygments_lexer": "ipython3",
   "version": "3.8.12"
  }
 },
 "nbformat": 4,
 "nbformat_minor": 4
}
