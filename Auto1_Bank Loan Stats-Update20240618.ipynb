{
 "cells": [
  {
   "cell_type": "code",
   "execution_count": 1,
   "metadata": {},
   "outputs": [
    {
     "name": "stdout",
     "output_type": "stream",
     "text": [
      "C:/Users/jy/AppData/Local/bipy/31094803/projects/7bacdd446cf1406ca946bab3a4997531\n"
     ]
    }
   ],
   "source": [
    "%load_ext autoreload\n",
    "%autoreload 2\n",
    "\n",
    "from src.util import get_path\n",
    "get_path()\n",
    "\n",
    "include_pre_2021_data = 0"
   ]
  },
  {
   "cell_type": "code",
   "execution_count": 2,
   "metadata": {},
   "outputs": [
    {
     "name": "stdout",
     "output_type": "stream",
     "text": [
      "Running on local.\n"
     ]
    }
   ],
   "source": [
    "try:\n",
    "    import bql\n",
    "    import sys\n",
    "\n",
    "    sys.path.append('./Lib')\n",
    "    from etiqalib import *\n",
    "    from etiqalib.config import *\n",
    "    from etiqalib.bqfields import BaseGetData\n",
    "    from datetime import datetime\n",
    "\n",
    "    read = False\n",
    "\n",
    "    bq = bql.Service()\n",
    "    def px_function(bq, ticker, start, end):\n",
    "        bqapi = BaseGetData(bq)\n",
    "        dff = bqapi.get_data(ticker,{'px_last':bq.data.px_last(start=start, end=end, **fillprev)})\n",
    "        return dff.drop('CURRENCY',1).dropna(subset=['px_last'])\n",
    "\n",
    "    start_date = '1998-01-01'\n",
    "    end_date = datetime.today().date().isoformat()\n",
    "\n",
    "    if not read:\n",
    "        opr_df = download_incremental(bq, 'MAOPRATE Index',px_function, start_date, end_date)\n",
    "        srr_df = download_incremental(bq, 'MAOPSRR Index',px_function, start_date, end_date)\n",
    "        m3_df = download_incremental(bq, 'MAMS3YOY Index',px_function, start_date, end_date)\n",
    "        magy10yr = download_incremental(bq, 'MAGY10YR Index',px_function, start_date, end_date)\n",
    "        price_df = download_incremental(bq, 'FBMKLCI Index', px_function, start_date, end_date)\n",
    "\n",
    "        opr_df.to_csv('data/opr/opr_rate.csv')\n",
    "        srr_df.to_csv('data/opr/srr_rate.csv')\n",
    "        m3_df.to_csv('data/opr/m3_rate.csv')\n",
    "        magy10yr.to_csv('data/opr/magy10yr.csv')\n",
    "        price_df.to_csv('data/opr/fbmklci.csv')\n",
    "        dt = opr_df[\"DATE\"].max()\n",
    "        print(f\"Refreshed data: {dt}\")\n",
    "    else:\n",
    "        opr_df = pd.read_csv('data/opr/opr_rate.csv', parse_dates=['DATE'])\n",
    "        srr_df = pd.read_csv('data/opr/srr_rate.csv', parse_dates=['DATE'])\n",
    "        m3_df = pd.read_csv('data/opr/m3_rate.csv', parse_dates=['DATE'])\n",
    "        magy10yr = pd.read_csv('data/opr/magy10yr.csv', parse_dates=['DATE'])\n",
    "        price_df = pd.read_csv('data/opr/fbmklci.csv', parse_dates=['DATE'])\n",
    "except Exception as err:\n",
    "    print(\"Running on local.\")\n",
    "    "
   ]
  },
  {
   "cell_type": "code",
   "execution_count": 3,
   "metadata": {},
   "outputs": [
    {
     "name": "stdout",
     "output_type": "stream",
     "text": [
      "C:/Users/jy/AppData/Local/bipy/31094803/projects/7bacdd446cf1406ca946bab3a4997531\n"
     ]
    }
   ],
   "source": [
    "raise_1 = False\n",
    "get_path()\n",
    "\n",
    "try:\n",
    "    import bql\n",
    "    raise_1 = True\n",
    "except:\n",
    "    raise_1 = False\n",
    "if raise_1:\n",
    "    raise Exception(\"Query only in BQNT environment.\")"
   ]
  },
  {
   "cell_type": "code",
   "execution_count": 4,
   "metadata": {},
   "outputs": [],
   "source": [
    "from src.jinja_html import render_html, encode_graph\n",
    "import weasyprint\n",
    "import pandas as pd\n",
    "from datetime import timedelta\n",
    "import plotly.graph_objects as go\n",
    "from plotly.subplots import make_subplots\n",
    "import numpy as np\n",
    "from datetime import datetime\n",
    "pd.set_option('display.max_columns', 50) \n",
    "\n",
    "import os\n",
    "from src_new.data_loader import read_csv"
   ]
  },
  {
   "cell_type": "markdown",
   "metadata": {},
   "source": [
    "# Read Data"
   ]
  },
  {
   "cell_type": "code",
   "execution_count": 5,
   "metadata": {},
   "outputs": [],
   "source": [
    "from src_new.data_loader import Data\n",
    "from src_new.chart_npl_1 import create_overview_fig, get_npl_text\n",
    "from src_new.chart_total_loans_2 import create_total_loans_growth_fig, get_loans_growth_text\n",
    "from src_new.chart_total_appl_appr_3 import create_loan_app_fig, get_total_applr_text\n",
    "from src_new.chart_purposes_4 import create_fig_application, create_fig_approval\n",
    "from src_new.table_purposes_6 import preproc_app_df, create_styled_table\n",
    "from src_new.chart_4purposes_7 import create_4_purposes_figs, create_4_purposes_texts"
   ]
  },
  {
   "cell_type": "code",
   "execution_count": 6,
   "metadata": {},
   "outputs": [],
   "source": [
    "data = Data()\n",
    "data.query_bnm()"
   ]
  },
  {
   "cell_type": "code",
   "execution_count": 7,
   "metadata": {},
   "outputs": [],
   "source": [
    "data.subset_date(dt=\"2024-05-31\", loan_dt=\"2024-04-30\")\n",
    "# data.subset_date(dt=\"2024-04-30\", loan_dt=\"2024-03-31\")"
   ]
  },
  {
   "cell_type": "markdown",
   "metadata": {},
   "source": [
    "# Chart 1 - NPL"
   ]
  },
  {
   "cell_type": "code",
   "execution_count": 8,
   "metadata": {},
   "outputs": [
    {
     "data": {
      "text/plain": [
       "'M3 YoY Growth is 6.06%. Non-performing Loan (NPL) is 1.63%, which is lower compared to last year (1.74%)'"
      ]
     },
     "execution_count": 8,
     "metadata": {},
     "output_type": "execute_result"
    }
   ],
   "source": [
    "m3_price_m = data.m3_price_m\n",
    "srr_m = data.srr_m\n",
    "npl = data.npl\n",
    "opr_df = data.opr_df\n",
    "fig_overview = create_overview_fig(m3_price_m, srr_m, npl, opr_df)\n",
    "overview_text, npl_2, npl_1 = get_npl_text(m3_price_m, npl)\n",
    "overview_text"
   ]
  },
  {
   "cell_type": "markdown",
   "metadata": {},
   "source": [
    "# Chart 2 - Total Loans Growth"
   ]
  },
  {
   "cell_type": "code",
   "execution_count": 9,
   "metadata": {},
   "outputs": [
    {
     "data": {
      "text/plain": [
       "'Total Loans Growth (YoY) is 6.05%; MoM Growth is 0.08%.'"
      ]
     },
     "execution_count": 9,
     "metadata": {},
     "output_type": "execute_result"
    }
   ],
   "source": [
    "total_loans_df = data.total_loans_df\n",
    "fig_loans_growth = create_total_loans_growth_fig(total_loans_df)\n",
    "loans_growth_text = get_loans_growth_text(total_loans_df)\n",
    "fig_loans_growth\n",
    "loans_growth_text"
   ]
  },
  {
   "cell_type": "markdown",
   "metadata": {},
   "source": [
    "# Chart 3 - Total Bank Loan Application and Approval"
   ]
  },
  {
   "cell_type": "code",
   "execution_count": 10,
   "metadata": {},
   "outputs": [
    {
     "data": {
      "text/plain": [
       "'As of April 2024, Total Bank Loan Application MoM and YoY change are 0.01% and 13.98% respectively; Total Bank Loan Approval MoM and YoY change are -2.09% and 12.84% respectively.'"
      ]
     },
     "execution_count": 10,
     "metadata": {},
     "output_type": "execute_result"
    }
   ],
   "source": [
    "application_df = data.application_df\n",
    "approval_df = data.approval_df\n",
    "opr_df = data.opr_df\n",
    "fig_loan = create_loan_app_fig(application_df, approval_df, opr_df) \n",
    "loan_text = get_total_applr_text(application_df, approval_df)\n",
    "# fig_loan\n",
    "loan_text"
   ]
  },
  {
   "cell_type": "markdown",
   "metadata": {},
   "source": [
    "# Chart 4, 5 - Loan App & Approval"
   ]
  },
  {
   "cell_type": "code",
   "execution_count": 11,
   "metadata": {},
   "outputs": [],
   "source": [
    "application_df_2 = data.application_df_2\n",
    "approval_df_2 = data.approval_df_2\n",
    "fig_application = create_fig_application(application_df_2)\n",
    "fig_approval = create_fig_approval(approval_df_2)\n",
    "# display(fig_application)\n",
    "# display(fig_approval)\n"
   ]
  },
  {
   "cell_type": "markdown",
   "metadata": {},
   "source": [
    "# Table 6a, 6b - Loan App & Approval"
   ]
  },
  {
   "cell_type": "code",
   "execution_count": 12,
   "metadata": {},
   "outputs": [],
   "source": [
    "appl_df_1 = preproc_app_df(application_df_2)\n",
    "appr_df_1 = preproc_app_df(approval_df_2)\n",
    "appl_df_2 = create_styled_table(appl_df_1)\n",
    "appr_df_2 = create_styled_table(appr_df_1)\n",
    "# display(appl_df_2)\n",
    "# display(appr_df_2)"
   ]
  },
  {
   "cell_type": "markdown",
   "metadata": {},
   "source": [
    "# Chart 7-10 - 4 Purposes "
   ]
  },
  {
   "cell_type": "code",
   "execution_count": 13,
   "metadata": {},
   "outputs": [],
   "source": [
    "purpose_figs = create_4_purposes_figs(application_df_2, approval_df_2)\n",
    "purpose_texts = create_4_purposes_texts(appl_df_1, appr_df_1)"
   ]
  },
  {
   "cell_type": "code",
   "execution_count": 14,
   "metadata": {},
   "outputs": [],
   "source": [
    "# for fig_, txt in zip(figs, purpose_texts):\n",
    "#     display(fig_)\n",
    "#     print(txt)\n",
    "    "
   ]
  },
  {
   "cell_type": "markdown",
   "metadata": {},
   "source": [
    "### Commentary"
   ]
  },
  {
   "cell_type": "code",
   "execution_count": 15,
   "metadata": {},
   "outputs": [],
   "source": [
    "\n",
    "latest_month = application_df_2.index[-1].strftime(\"%B %Y\")\n",
    "lg_yoy = total_loans_df['Total_Loans'].pct_change(12).values[-1]\n",
    "lg_mom = total_loans_df['Total_Loans'].pct_change(1).values[-1]\n",
    "\n",
    "x1 = application_df.tail(13)\n",
    "appl_1, appl_2, appl_3 = x1.loc[:, \"TOTAL\"].values[0], x1.loc[:, \"TOTAL\"].values[-2], x1.loc[:, \"TOTAL\"].values[-1]\n",
    "appl_yoy = appl_3/appl_1-1\n",
    "appl_mom = appl_3/appl_2-1\n",
    "\n",
    "x1 = approval_df.tail(13)\n",
    "appr_1, appr_2, appr_3 = x1.loc[:, \"TOTAL\"].values[0], x1.loc[:, \"TOTAL\"].values[-2], x1.loc[:, \"TOTAL\"].values[-1]\n",
    "appr_yoy = appr_3/appr_1-1\n",
    "appr_mom = appr_3/appr_2-1\n"
   ]
  },
  {
   "cell_type": "code",
   "execution_count": 16,
   "metadata": {},
   "outputs": [
    {
     "name": "stdout",
     "output_type": "stream",
     "text": [
      "\n",
      "*Banking Loan Stats Update (Data as of end of April 2024):*\n",
      "\n",
      "*Total Loans*\n",
      "Total loans YoY and MoM growth are *6.05%* and *0.08%*, respectively.\n",
      "\n",
      "*Loan Application and Approval*\n",
      "\n",
      "Loan application and approval *MoM* growth are *0.01%* and *-2.09%*, respectively. \n",
      "While, loan application and approval *YoY* growth are *13.98%* and *12.84%*, respectively.\n",
      "\n",
      "Notable sectors in the credit market:\n",
      "1) Credit Card (YoY growth - application: *-10.15%*, approval: *7.21%*)\n",
      "2) Passenger Cars (YoY growth - application: *14.29%*, approval: *10.17%*)\n",
      "3) Working Capital (YoY growth - application: *18.44%*, approval: *12.72%*)\n",
      "4) Residential Mortgages (YoY growth - application: *14.83%*, approval: *11.89%*)\n",
      "5) Construction (YoY growth - application: *33.85%*, approval: *23.44%*)\n",
      "\n"
     ]
    }
   ],
   "source": [
    "\n",
    "commentary = f\"\"\"\n",
    "*Banking Loan Stats Update (Data as of end of {latest_month}):*\n",
    "\n",
    "*Total Loans*\n",
    "Total loans YoY and MoM growth are *{lg_yoy:.2%}* and *{lg_mom:.2%}*, respectively.\n",
    "\n",
    "*Loan Application and Approval*\n",
    "\n",
    "Loan application and approval *MoM* growth are *{appl_mom:.2%}* and *{appr_mom:.2%}*, respectively. \n",
    "While, loan application and approval *YoY* growth are *{appl_yoy:.2%}* and *{appr_yoy:.2%}*, respectively.\n",
    "\n",
    "Notable sectors in the credit market:\n",
    "1) Credit Card (YoY growth - application: *{appl_df_1.loc['Credit Card', :][-1]:.2f}%*, approval: *{appr_df_1.loc['Credit Card', :][-1]:.2f}%*)\n",
    "2) Passenger Cars (YoY growth - application: *{appl_df_1.loc['Passenger Cars', :][-1]:.2f}%*, approval: *{appr_df_1.loc['Passenger Cars', :][-1]:.2f}%*)\n",
    "3) Working Capital (YoY growth - application: *{appl_df_1.loc['Working Capital', :][-1]:.2f}%*, approval: *{appr_df_1.loc['Working Capital', :][-1]:.2f}%*)\n",
    "4) Residential Mortgages (YoY growth - application: *{appl_df_1.loc['Residential Mortgages', :][-1]:.2f}%*, approval: *{appr_df_1.loc['Residential Mortgages', :][-1]:.2f}%*)\n",
    "5) Construction (YoY growth - application: *{appl_df_1.loc['Construction', :][-1]:.2f}%*, approval: *{appr_df_1.loc['Construction', :][-1]:.2f}%*)\n",
    "\"\"\"\n",
    "\n",
    "from IPython.display import display, Markdown, Latex\n",
    "print(commentary)\n"
   ]
  },
  {
   "cell_type": "markdown",
   "metadata": {},
   "source": [
    "### Generate PDF"
   ]
  },
  {
   "cell_type": "code",
   "execution_count": 17,
   "metadata": {},
   "outputs": [
    {
     "data": {
      "text/plain": [
       "Timestamp('2024-04-30 00:00:00')"
      ]
     },
     "execution_count": 17,
     "metadata": {},
     "output_type": "execute_result"
    }
   ],
   "source": [
    "pd.to_datetime(latest_month)+pd.tseries.offsets.MonthEnd(1)"
   ]
  },
  {
   "cell_type": "code",
   "execution_count": 18,
   "metadata": {},
   "outputs": [
    {
     "name": "stdout",
     "output_type": "stream",
     "text": [
      "Rendered HTML.\n",
      "Rendered PDF.\n",
      "CPU times: total: 375 ms\n",
      "Wall time: 2.25 s\n"
     ]
    }
   ],
   "source": [
    "%%time\n",
    "app_cols = [\"Passenger Cars\", \"Residential Mortgages\", \"Credit Card\", \"Working Capital\"]\n",
    "dt = pd.to_datetime(latest_month)\n",
    "\n",
    "date_filename = (pd.to_datetime(latest_month)+pd.tseries.offsets.MonthEnd(1)).strftime(\"%Y-%m-%d\")\n",
    "date_time = dt.strftime(\"%B %Y\")\n",
    "\n",
    "title = \"Bank Loan Stats\"\n",
    "to_html_data = {\n",
    "    \"title\": title,\n",
    "    \"date_time_str\": f\"{date_time} Update\",\n",
    "    \n",
    "    \"fig_overview\": encode_graph(fig_overview),\n",
    "    \"overview_text\": overview_text,\n",
    "    \n",
    "    \"fig_loans_growth\": encode_graph(fig_loans_growth),\n",
    "    \"loans_growth_text\": loans_growth_text,\n",
    "    \n",
    "    \"fig_loan\": encode_graph(fig_loan),\n",
    "    \"loan_text\": loan_text,\n",
    "    \"fig_application\": encode_graph(fig_application),\n",
    "    \"fig_approval\": encode_graph(fig_approval),\n",
    "    \"appl_df_2\": appl_df_2.to_html(),\n",
    "    \"appr_df_2\": appr_df_2.to_html(),\n",
    "    \"fig_titles\": app_cols,\n",
    "    \"figs\": [encode_graph(fig) for fig in purpose_figs],\n",
    "    \"purpose_texts\": purpose_texts, \n",
    "    \"figs_N\": len(purpose_figs),\n",
    "}\n",
    "\n",
    "output_html_filename = f\"output/{title}-{date_filename}.html\"\n",
    "output_pdf_filename = f\"output/{title}-{date_filename}.pdf\"\n",
    "render_html(to_html_data, output_filename=output_html_filename,\n",
    "            input_template_filename=\"output/bank_loan_stats_template.html\")\n",
    "print('Rendered HTML.')\n",
    "os.add_dll_directory(r\"C:\\Program Files\\GTK3-Runtime Win64\\bin\")\n",
    "doc_1 = weasyprint.HTML(filename=output_html_filename)\n",
    "doc_pdf = doc_1.write_pdf(output_pdf_filename)\n",
    "print('Rendered PDF.')\n"
   ]
  },
  {
   "cell_type": "code",
   "execution_count": 19,
   "metadata": {},
   "outputs": [
    {
     "name": "stdout",
     "output_type": "stream",
     "text": [
      "Done output: output/Bank Loan Stats-2024-04-30.pdf\n"
     ]
    }
   ],
   "source": [
    "print(\"Done output:\", output_pdf_filename)"
   ]
  },
  {
   "cell_type": "code",
   "execution_count": null,
   "metadata": {},
   "outputs": [],
   "source": []
  },
  {
   "cell_type": "code",
   "execution_count": null,
   "metadata": {},
   "outputs": [],
   "source": []
  },
  {
   "cell_type": "code",
   "execution_count": null,
   "metadata": {},
   "outputs": [],
   "source": []
  }
 ],
 "metadata": {
  "kernelspec": {
   "display_name": "Python 3 (ipykernel)",
   "language": "python",
   "name": "python3"
  },
  "language_info": {
   "codemirror_mode": {
    "name": "ipython",
    "version": 3
   },
   "file_extension": ".py",
   "mimetype": "text/x-python",
   "name": "python",
   "nbconvert_exporter": "python",
   "pygments_lexer": "ipython3",
   "version": "3.9.18"
  }
 },
 "nbformat": 4,
 "nbformat_minor": 4
}
