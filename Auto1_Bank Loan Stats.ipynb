{
 "cells": [
  {
   "cell_type": "code",
   "execution_count": 1,
   "metadata": {},
   "outputs": [],
   "source": [
    "%load_ext autoreload\n",
    "%autoreload 2"
   ]
  },
  {
   "cell_type": "code",
   "execution_count": 2,
   "metadata": {},
   "outputs": [
    {
     "name": "stdout",
     "output_type": "stream",
     "text": [
      "Refreshed data: 2022-05-05 00:00:00\n"
     ]
    },
    {
     "ename": "Exception",
     "evalue": "Query only in BQNT environment.",
     "output_type": "error",
     "traceback": [
      "\u001b[1;31m---------------------------------------------------------------------------\u001b[0m",
      "\u001b[1;31mException\u001b[0m                                 Traceback (most recent call last)",
      "\u001b[1;32m<ipython-input-2-615ac8fb0ccf>\u001b[0m in \u001b[0;36m<module>\u001b[1;34m\u001b[0m\n\u001b[0;32m     50\u001b[0m     \u001b[0mraise_1\u001b[0m \u001b[1;33m=\u001b[0m \u001b[1;32mFalse\u001b[0m\u001b[1;33m\u001b[0m\u001b[1;33m\u001b[0m\u001b[0m\n\u001b[0;32m     51\u001b[0m \u001b[1;32mif\u001b[0m \u001b[0mraise_1\u001b[0m\u001b[1;33m:\u001b[0m\u001b[1;33m\u001b[0m\u001b[1;33m\u001b[0m\u001b[0m\n\u001b[1;32m---> 52\u001b[1;33m     \u001b[1;32mraise\u001b[0m \u001b[0mException\u001b[0m\u001b[1;33m(\u001b[0m\u001b[1;34m\"Query only in BQNT environment.\"\u001b[0m\u001b[1;33m)\u001b[0m\u001b[1;33m\u001b[0m\u001b[1;33m\u001b[0m\u001b[0m\n\u001b[0m\u001b[0;32m     53\u001b[0m \u001b[1;33m\u001b[0m\u001b[0m\n",
      "\u001b[1;31mException\u001b[0m: Query only in BQNT environment."
     ]
    }
   ],
   "source": [
    "try:\n",
    "    import bql\n",
    "    import sys\n",
    "\n",
    "    sys.path.append('./Lib')\n",
    "    from etiqalib import *\n",
    "    from etiqalib.config import *\n",
    "    from etiqalib.bqfields import BaseGetData\n",
    "    from datetime import datetime\n",
    "\n",
    "    read = False\n",
    "\n",
    "    bq = bql.Service()\n",
    "    def px_function(bq, ticker, start, end):\n",
    "        bqapi = BaseGetData(bq)\n",
    "        dff = bqapi.get_data(ticker,{'px_last':bq.data.px_last(start=start, end=end, **fillprev)})\n",
    "        return dff.drop('CURRENCY',1).dropna(subset=['px_last'])\n",
    "\n",
    "    start_date = '1998-01-01'\n",
    "    end_date = datetime.today().date().isoformat()\n",
    "\n",
    "    if not read:\n",
    "        opr_df = download_incremental(bq, 'MAOPRATE Index',px_function, start_date, end_date)\n",
    "        srr_df = download_incremental(bq, 'MAOPSRR Index',px_function, start_date, end_date)\n",
    "        m3_df = download_incremental(bq, 'MAMS3YOY Index',px_function, start_date, end_date)\n",
    "        magy10yr = download_incremental(bq, 'MAGY10YR Index',px_function, start_date, end_date)\n",
    "        price_df = download_incremental(bq, 'FBMKLCI Index', px_function, start_date, end_date)\n",
    "\n",
    "        opr_df.to_csv('data/opr/opr_rate.csv')\n",
    "        srr_df.to_csv('data/opr/srr_rate.csv')\n",
    "        m3_df.to_csv('data/opr/m3_rate.csv')\n",
    "        magy10yr.to_csv('data/opr/magy10yr.csv')\n",
    "        price_df.to_csv('data/opr/fbmklci.csv')\n",
    "        dt = opr_df[\"DATE\"].max()\n",
    "        print(f\"Refreshed data: {dt}\")\n",
    "    else:\n",
    "        opr_df = pd.read_csv('data/opr/opr_rate.csv', parse_dates=['DATE'])\n",
    "        srr_df = pd.read_csv('data/opr/srr_rate.csv', parse_dates=['DATE'])\n",
    "        m3_df = pd.read_csv('data/opr/m3_rate.csv', parse_dates=['DATE'])\n",
    "        magy10yr = pd.read_csv('data/opr/magy10yr.csv', parse_dates=['DATE'])\n",
    "        price_df = pd.read_csv('data/opr/fbmklci.csv', parse_dates=['DATE'])\n",
    "except Exception as err:\n",
    "    print(\"Running on local.\")\n",
    "    \n",
    "raise_1 = False\n",
    "try:\n",
    "    import bql\n",
    "    raise_1 = True\n",
    "except:\n",
    "    raise_1 = False\n",
    "if raise_1:\n",
    "    raise Exception(\"Query only in BQNT environment.\")\n",
    "    "
   ]
  },
  {
   "cell_type": "code",
   "execution_count": null,
   "metadata": {},
   "outputs": [],
   "source": [
    "from src.jinja_html import render_html, encode_graph\n",
    "import weasyprint\n",
    "import pandas as pd\n",
    "from datetime import timedelta\n",
    "import plotly.graph_objects as go\n",
    "from plotly.subplots import make_subplots\n",
    "import numpy as np\n",
    "from datetime import datetime\n",
    "pd.set_option('display.max_columns', 50) \n",
    "\n",
    "import os"
   ]
  },
  {
   "cell_type": "code",
   "execution_count": null,
   "metadata": {},
   "outputs": [],
   "source": [
    "def get_year_month(df):  \n",
    "    df['year_month'] = df['DATE'].map(lambda x: datetime(x.year, x.month, 1).date())\n",
    "    return df\n",
    "\n",
    "def filter_date(df,start_date, end_date, date_col='year_month'):\n",
    "    return df.query('{dtcol} >= \"{}\" and {dtcol} <= \"{}\"'.format(start_date, end_date, dtcol=date_col))\n",
    "\n",
    "def read_csv(file):\n",
    "    '''\n",
    "    with parse_date\n",
    "    '''\n",
    "    return pd.read_csv(file, parse_dates=['DATE'])\n",
    "\n",
    "# os.listdir('data/Loans Stats/')"
   ]
  },
  {
   "cell_type": "markdown",
   "metadata": {},
   "source": [
    "### Parameters"
   ]
  },
  {
   "cell_type": "code",
   "execution_count": 4,
   "metadata": {},
   "outputs": [
    {
     "name": "stdout",
     "output_type": "stream",
     "text": [
      "End Date: 2022-04-29 00:00:00\n"
     ]
    }
   ],
   "source": [
    "image_folder = 'output'\n",
    "\n",
    "dt_mth = datetime.now().strftime(\"%Y%m\")\n",
    "file_1 = f'data/Loans Stats/{dt_mth}_Banking System.XLS'\n",
    "file_2 = f'data/Loans Stats/{dt_mth}_Banking System_2.XLS'\n",
    "\n",
    "start_date = \"2010-01-01\"\n",
    "\n",
    "opr_df         = read_csv('data/opr/opr_rate.csv')\n",
    "end_date = opr_df[\"DATE\"].max() - pd.offsets.BMonthEnd(1)\n",
    "# end_date = \"2022-02-28\"  # to update\n",
    "print(\"End Date:\", end_date)"
   ]
  },
  {
   "cell_type": "markdown",
   "metadata": {},
   "source": [
    "### Read Data"
   ]
  },
  {
   "cell_type": "code",
   "execution_count": 5,
   "metadata": {},
   "outputs": [],
   "source": [
    "loan_3_df        = pd.read_excel(file_1, sheet_name='Loan_3')\n",
    "int_df           = pd.read_excel(file_1, sheet_name='Int')\n",
    "npl_df           = pd.read_excel(file_1, sheet_name='NPL')[['Unnamed: 0','Unnamed: 17']]\n",
    "application_df = pd.read_excel(file_2, sheet_name='Applications by purpose', header=None)\n",
    "approval_df    = pd.read_excel(file_2, sheet_name='Approvals by purpose', header=None)\n",
    "\n",
    "\n",
    "opr_df         = read_csv('data/opr/opr_rate.csv').pipe(get_year_month).pipe(filter_date, start_date, end_date, \"DATE\")\n",
    "m3_price       = read_csv('data/opr/m3_rate.csv').pipe(get_year_month).pipe(filter_date, start_date, end_date, \"DATE\") \n",
    "srr            = read_csv('data/opr/srr_rate.csv').pipe(get_year_month).pipe(filter_date, start_date, end_date, \"DATE\")\n",
    "bond_yields    = read_csv('data/opr/magy10yr.csv').pipe(filter_date, start_date, end_date, \"DATE\")"
   ]
  },
  {
   "cell_type": "code",
   "execution_count": 6,
   "metadata": {},
   "outputs": [],
   "source": [
    "# !pip install xlrd --upgrade"
   ]
  },
  {
   "cell_type": "markdown",
   "metadata": {},
   "source": [
    "### Data Processing"
   ]
  },
  {
   "cell_type": "code",
   "execution_count": 7,
   "metadata": {},
   "outputs": [
    {
     "name": "stderr",
     "output_type": "stream",
     "text": [
      "C:\\Users\\jy\\AppData\\Local\\Temp\\ipykernel_30616\\1846723746.py:3: FutureWarning: The series.append method is deprecated and will be removed from pandas in a future version. Use pandas.concat instead.\n",
      "  dff.columns  = dff.iloc[3][:2].append(dff.iloc[2][2:]).tolist()\n",
      "C:\\Users\\jy\\AppData\\Local\\Temp\\ipykernel_30616\\1846723746.py:3: FutureWarning: The series.append method is deprecated and will be removed from pandas in a future version. Use pandas.concat instead.\n",
      "  dff.columns  = dff.iloc[3][:2].append(dff.iloc[2][2:]).tolist()\n"
     ]
    }
   ],
   "source": [
    "def trim_df(df):\n",
    "    dff = df[list(range(15))].copy()\n",
    "    dff.columns  = dff.iloc[3][:2].append(dff.iloc[2][2:]).tolist()\n",
    "    dff = dff.iloc[4:].copy().dropna(subset=['Month'])\n",
    "    dff['Year'] = dff['Year'].ffill()\n",
    "    dff['year_month'] = dff.apply(lambda x: '{}-{}-01'.format(x['Year'], str(x['Month']).zfill(2)),1)\n",
    "    return dff\n",
    "\n",
    "def process_npl(npl):\n",
    "    npl.columns= ['Date', 'Gross NPL']\n",
    "    npl = npl.iloc[npl[npl['Date']=='Monthly'].index[0]+1:].dropna().copy()\n",
    "    npl['Date'] = pd.to_datetime(npl['Date'])\n",
    "    return npl\n",
    "\n",
    "def process_opr(opr_df):\n",
    "    def label(x):\n",
    "        if x > 0:\n",
    "            return 'hike'\n",
    "        elif x< 0 :\n",
    "            return 'cut'\n",
    "        else:\n",
    "            return 'stay'\n",
    "    \n",
    "    opr_df['label'] = opr_df['px_last'].diff().map(label) \n",
    "    opr_month = pd.pivot_table(opr_df, index='year_month', columns='label', values='px_last').fillna(0)\\\n",
    "                  .applymap(lambda x: 1 if x!= 0 else 0).reset_index()\n",
    "    opr_month['label'] = opr_month.apply(lambda x: 'cut' if x['cut']==1 else ('hike' if x['hike'] == 1 else 'stay'), 1)\n",
    "    return opr_df, opr_month\n",
    "\n",
    "application_df_1 = trim_df(application_df).pipe(filter_date, start_date, end_date)\n",
    "approval_df_1 = trim_df(approval_df).pipe(filter_date, start_date, end_date).\\\n",
    "                                    rename(columns={'Residential':'Residential mortgages',\n",
    "                                                    'Non-residential':'Non-residential mortgages',\n",
    "                                                     'Consumer goods':'Consumer durable goods', \n",
    "                                                    'Other ':'Other purpose'})\n",
    "npl = process_npl(npl_df).pipe(filter_date, start_date, end_date, \"Date\")\n",
    "opr_df, opr_month = process_opr(opr_df)\n",
    "\n",
    "m3_price_m = m3_price.groupby(['ID','year_month'])['px_last'].last().reset_index()\n",
    "srr_m = srr.groupby(['ID','year_month'])['px_last'].last().reset_index()"
   ]
  },
  {
   "cell_type": "code",
   "execution_count": 8,
   "metadata": {},
   "outputs": [
    {
     "name": "stdout",
     "output_type": "stream",
     "text": [
      "2022-03-01T00:00:00.000000000\n"
     ]
    }
   ],
   "source": [
    "loan_last_date = npl[\"Date\"].values[-1]\n",
    "print(loan_last_date)"
   ]
  },
  {
   "cell_type": "markdown",
   "metadata": {},
   "source": [
    "### Visualization"
   ]
  },
  {
   "cell_type": "code",
   "execution_count": 9,
   "metadata": {},
   "outputs": [],
   "source": [
    "width = 1200\n",
    "height = 625\n",
    "\n",
    "def add_title(fig, title, ylabel=\"Amount (billion) [MYR]\"):\n",
    "    fig.update_layout(template='ygridoff',\n",
    "                      title=title,\n",
    "                    yaxis=dict(\n",
    "                    title=ylabel,\n",
    "                ),\n",
    "                )\n",
    "    return fig\n",
    "\n",
    "\n",
    "def plot_multi_lines(df, x_axis, y_axes):\n",
    "    fig = go.Figure()\n",
    "    for col in y_axes:\n",
    "        fig.add_trace(go.Scatter(x=df[x_axis], y=df[col]/1000, name=col))\n",
    "    fig.update_xaxes(dtick='M12')\n",
    "    return fig\n"
   ]
  },
  {
   "cell_type": "markdown",
   "metadata": {},
   "source": [
    "### Overview of Bank Loan Stats"
   ]
  },
  {
   "cell_type": "code",
   "execution_count": 10,
   "metadata": {},
   "outputs": [],
   "source": [
    "def create_overview_fig(m3_price_m, srr_m, npl, opr_df):\n",
    "    fig = go.Figure()\n",
    "    fig.add_trace(go.Scatter(x = npl['Date'],\n",
    "                             y = npl['Gross NPL'],\n",
    "                             marker_color='#7f7f7f',\n",
    "                             name = 'NPL',\n",
    "                            yaxis=\"y2\"))\n",
    "\n",
    "    fig.add_trace(go.Scatter(x = m3_price_m['year_month'],\n",
    "                             y = m3_price_m['px_last'],\n",
    "                             marker_color='#ff7f0e',\n",
    "                             name = 'M3'),\n",
    "                 )\n",
    "\n",
    "    fig.add_trace(go.Scatter(x = srr_m['year_month'],\n",
    "                             y = srr_m['px_last'],\n",
    "                             marker_color='red',\n",
    "                             name = 'SRR'),\n",
    "                 )\n",
    "\n",
    "\n",
    "    fig.add_trace(go.Scatter(x = opr_df['DATE'],\n",
    "                             y = opr_df['px_last'],\n",
    "                             marker_color='blue',\n",
    "                             mode='lines',\n",
    "                             name = 'OPR',\n",
    "                             yaxis=\"y2\"),\n",
    "                 )\n",
    "\n",
    "    fig.update_layout(\n",
    "        title='NPL',\n",
    "        yaxis=dict(\n",
    "            title=\"M3 / SRR\",\n",
    "            titlefont=dict(\n",
    "                color=\"red\"\n",
    "            ),\n",
    "            tickfont=dict(\n",
    "                color=\"red\"\n",
    "            )\n",
    "        ),\n",
    "        yaxis2=dict(\n",
    "            title=\"Gross NPL / OPR\",\n",
    "            anchor=\"x\",\n",
    "            overlaying=\"y\",\n",
    "            side=\"right\",\n",
    "            position=0.85\n",
    "        )\n",
    "    )\n",
    "\n",
    "    fig.update_layout(\n",
    "        template='ygridoff',\n",
    "        xaxis = dict(\n",
    "            dtick = \"M12\"\n",
    "        )\n",
    "    )\n",
    "    fig.update_layout(\n",
    "        autosize=False,\n",
    "        width=width,\n",
    "        height=height,)\n",
    "    return fig\n"
   ]
  },
  {
   "cell_type": "code",
   "execution_count": 11,
   "metadata": {},
   "outputs": [],
   "source": [
    "fig_overview = create_overview_fig(m3_price_m, srr_m, npl, opr_df)\n"
   ]
  },
  {
   "cell_type": "code",
   "execution_count": 12,
   "metadata": {},
   "outputs": [],
   "source": [
    "x1 = m3_price_m.tail(13)\n",
    "d1, d2 = x1.year_month.values[0], x1.year_month.values[-1]\n",
    "m3_1, m3_2 = x1.loc[:, \"px_last\"].values[0], x1.loc[:, \"px_last\"].values[-1]\n",
    "\n",
    "x1 = npl.tail(13)\n",
    "d1, d2 = x1.Date.values[0], x1.Date.values[-1]\n",
    "npl_1, npl_2 = x1.loc[:, \"Gross NPL\"].values[0], x1.loc[:, \"Gross NPL\"].values[-1]\n",
    "\n",
    "if npl_2 >= npl_1:\n",
    "    compare = \"higher\"\n",
    "else:\n",
    "    compare = \"lower\"\n",
    "overview_text = \"M3 YoY Growth is {:.2f}%. Non-performing Loan (NPL) is {:.2f}%, which is {} compared to last year ({:.2f}%)\".format(m3_2, npl_2, compare, npl_1)\n",
    "\n"
   ]
  },
  {
   "cell_type": "markdown",
   "metadata": {},
   "source": [
    "### Total Bank Loan Application and Approval"
   ]
  },
  {
   "cell_type": "code",
   "execution_count": 13,
   "metadata": {},
   "outputs": [],
   "source": [
    "application_df_1[\"Date\"] = pd.to_datetime(application_df_1[\"year_month\"])\n",
    "application_df_1 = application_df_1.set_index(\"Date\").sort_index().loc[:loan_last_date]\n",
    "approval_df_1[\"Date\"] = pd.to_datetime(approval_df_1[\"year_month\"])\n",
    "approval_df_1 = approval_df_1.set_index(\"Date\").sort_index().loc[:loan_last_date]\n",
    "# application_df_1"
   ]
  },
  {
   "cell_type": "code",
   "execution_count": 14,
   "metadata": {},
   "outputs": [],
   "source": [
    "def create_loan_app_fig(application_df_1, approval_df_1, opr_df):\n",
    "    fig2 = go.Figure()\n",
    "    \n",
    "    fig2.add_trace(go.Scatter(x = application_df_1.dropna()['year_month'],\n",
    "                             y = application_df_1.dropna()['TOTAL']/1000,\n",
    "                             marker_color='#ffcfcf',\n",
    "                             name = 'Application'))\n",
    "        \n",
    "    fig2.add_trace(go.Scatter(x = application_df_1.dropna()['year_month'],\n",
    "                             y = application_df_1.dropna()['TOTAL'].rolling(12).mean()/1000,\n",
    "                             marker_color='red',\n",
    "                             name = 'Application (Avg)'))\n",
    "    \n",
    "    fig2.add_trace(go.Scatter(x = approval_df_1.dropna()['year_month'],\n",
    "                             y = approval_df_1.dropna()['TOTAL']/1000,\n",
    "                             marker_color='#b6fac1',\n",
    "                            name = 'Approval'),\n",
    "                 )\n",
    "    \n",
    "    fig2.add_trace(go.Scatter(x = approval_df_1.dropna()['year_month'],\n",
    "                             y = approval_df_1.dropna()['TOTAL'].rolling(12).mean()/1000,\n",
    "                             marker_color='green',\n",
    "                            name = 'Approval (Avg)'),\n",
    "                 )\n",
    "\n",
    "    fig2.add_trace(go.Scatter(x = opr_df.query('DATE >= \"2006-01-01\"')['DATE'],\n",
    "                             y = opr_df.query('DATE >= \"2006-01-01\"')['px_last'],\n",
    "                             marker_color='blue',\n",
    "                             mode='lines',\n",
    "                             name = 'OPR',\n",
    "                            yaxis=\"y2\"),\n",
    "                 )\n",
    "\n",
    "    fig2.update_layout(\n",
    "        title='Total Bank Loan Application and Approval (Rolling 12 Months Average)',\n",
    "        yaxis=dict(\n",
    "            title=\"Application / Approval  (billion) [MYR]\",\n",
    "            titlefont=dict(\n",
    "                color=\"#7f7f7f\"\n",
    "            ),\n",
    "            tickfont=dict(\n",
    "                color=\"#7f7f7f\"\n",
    "            )\n",
    "        ),\n",
    "        yaxis2=dict(\n",
    "            title=\"OPR\",\n",
    "            titlefont=dict(\n",
    "                color=\"blue\"\n",
    "            ),\n",
    "            tickfont=dict(\n",
    "                color=\"blue\"\n",
    "            ),\n",
    "            anchor=\"x\",\n",
    "            overlaying=\"y\",\n",
    "            side=\"right\",\n",
    "            position=0.85\n",
    "        )\n",
    "    )\n",
    "\n",
    "    fig2.update_layout(\n",
    "        template='ygridoff',\n",
    "        xaxis = dict(\n",
    "            dtick = \"M12\"\n",
    "        )\n",
    "    )\n",
    "    fig2.update_layout(\n",
    "        autosize=False,\n",
    "        width=width,\n",
    "        height=height,)\n",
    "    return fig2"
   ]
  },
  {
   "cell_type": "code",
   "execution_count": 15,
   "metadata": {},
   "outputs": [],
   "source": [
    "fig_loan = create_loan_app_fig(application_df_1, approval_df_1, opr_df)\n"
   ]
  },
  {
   "cell_type": "code",
   "execution_count": 16,
   "metadata": {},
   "outputs": [],
   "source": [
    "x1 = application_df_1.tail(13)\n",
    "appl_1, appl_2, appl_3 = x1.loc[:, \"TOTAL\"].values[0], x1.loc[:, \"TOTAL\"].values[-2], x1.loc[:, \"TOTAL\"].values[-1]\n",
    "appl_yoy = appl_3/appl_1-1\n",
    "appl_mom = appl_3/appl_2-1\n",
    "\n",
    "x1 = approval_df_1.tail(13)\n",
    "appr_1, appr_2, appr_3 = x1.loc[:, \"TOTAL\"].values[0], x1.loc[:, \"TOTAL\"].values[-2], x1.loc[:, \"TOTAL\"].values[-1]\n",
    "appr_yoy = appr_3/appr_1-1\n",
    "appr_mom = appr_3/appr_2-1\n",
    "\n",
    "latest_month = x1.index[-1].strftime(\"%B %Y\")\n",
    "loan_text = \"As of {}, Total Bank Loan Application MoM and YoY change are {:.2f}% and {:.2f}% respectively;\".format(latest_month, appl_mom*100, appl_yoy*100)\n",
    "loan_text += \" Total Bank Loan Approval MoM and YoY change are {:.2f}% and {:.2f}% respectively.\".format(appr_mom*100, appr_yoy*100)\n"
   ]
  },
  {
   "cell_type": "code",
   "execution_count": 17,
   "metadata": {},
   "outputs": [
    {
     "data": {
      "text/plain": [
       "(94237.423, 66699.19809, 98570.983)"
      ]
     },
     "execution_count": 17,
     "metadata": {},
     "output_type": "execute_result"
    }
   ],
   "source": [
    "appl_1, appl_2, appl_3"
   ]
  },
  {
   "cell_type": "code",
   "execution_count": 18,
   "metadata": {},
   "outputs": [],
   "source": [
    "\n",
    "application_df_1[\"Date\"] = pd.to_datetime(application_df_1[\"year_month\"])\n",
    "purposes = [i for i in application_df_1 if i not in ['Date', 'Year','Month','TOTAL','year_month','Auto','Consumer durable goods']]\n",
    "application_df_1a = application_df_1.set_index(\"Date\")[purposes]\n",
    "application_df_2 = application_df_1a.rolling(12).mean()\n",
    "approval_df_1[\"Date\"] = pd.to_datetime(approval_df_1[\"year_month\"])\n",
    "approval_df_1a = approval_df_1.set_index(\"Date\")[purposes]\n",
    "approval_df_2 = approval_df_1a.rolling(12).mean()\n"
   ]
  },
  {
   "cell_type": "markdown",
   "metadata": {},
   "source": [
    "### Loan App & Approval"
   ]
  },
  {
   "cell_type": "code",
   "execution_count": 19,
   "metadata": {},
   "outputs": [],
   "source": [
    "fig_application = plot_multi_lines(application_df_2.reset_index(), 'Date', purposes)\n",
    "fig_application = add_title(fig_application, 'Application by Purpose', ylabel = \"Amount (billion MYR)\")\n",
    "fig_application = fig_application.update_layout(\n",
    "    autosize=False,\n",
    "    width=width,\n",
    "    height=height,)\n",
    "\n",
    "fig_approval = plot_multi_lines(approval_df_2.reset_index(), 'Date', purposes)\n",
    "fig_approval = add_title(fig_approval, 'Approval by Purpose', ylabel = \"Amount (billion MYR)\")\n",
    "fig_approval = fig_approval.update_layout(\n",
    "    autosize=False,\n",
    "    width=width,\n",
    "    height=height,)\n",
    "\n"
   ]
  },
  {
   "cell_type": "code",
   "execution_count": 20,
   "metadata": {},
   "outputs": [],
   "source": [
    "# a1 = approval_df_2.loc[\"2014\", [\"Residential mortgages\"]]\n",
    "# a2 = approval_df_2.loc[\"2022\", [\"Residential mortgages\"]]\n",
    "# pd.concat([a1, a2])"
   ]
  },
  {
   "cell_type": "code",
   "execution_count": 21,
   "metadata": {},
   "outputs": [],
   "source": [
    "# application_df_1[\"Date\"] = pd.to_datetime(application_df_1[\"year_month\"])\n",
    "# application_df_1a = application_df_1[purposes].set_index(\"Date\")\n",
    "# application_df_1a"
   ]
  },
  {
   "cell_type": "code",
   "execution_count": 22,
   "metadata": {},
   "outputs": [],
   "source": [
    "def preproc_app_df(df):\n",
    "    app_df_1 = df.pct_change(12).loc[df.index[-4]:]\n",
    "    col_1 = app_df_1.T.columns[-1]\n",
    "    new_col = [j.strftime(\"%b%y-YoY\") for j in app_df_1.T.columns]\n",
    "    table_application_1 = (  app_df_1.T.sort_values(col_1, ascending=False)*100).round(2)\n",
    "    table_application_1.columns = new_col\n",
    "    return table_application_1\n",
    "\n",
    "def create_styled_table(app_df):\n",
    "    app_df_1 = app_df.copy()\n",
    "    app_df_1.index.name = \"Purpose\"\n",
    "    app_df_2 = app_df_1.reset_index()\n",
    "    idxs = app_df_2.index[app_df_2[\"Purpose\"].isin([\"Working capital\", \"Credit cards\", \"Residential mortgages\", \"Passenger cars\"])]\n",
    "\n",
    "    fdf_styled = app_df_2.style.set_properties(**{\n",
    "        \"text-align\": \"right\",\n",
    "        'font-size': '8pt',\n",
    "        'white-space': 'pre-wrap',\n",
    "    })\n",
    "    cols = fdf_styled.columns\n",
    "    bd_color = \"#acacad\"\n",
    "    props = {\n",
    "        col: {\"padding\": \"3px\",  \"text-align\": \"right\", 'border-right': f'2px solid {bd_color}'}\n",
    "        for col in cols\n",
    "    }\n",
    "    fdf_styled = fdf_styled.format(\n",
    "        precision=2, subset=cols)\n",
    "\n",
    "    for key, val in props.items():\n",
    "        fdf_styled = fdf_styled.set_properties(subset=[key], **val)\n",
    "\n",
    "    fdf_styled = fdf_styled.set_table_styles(\n",
    "        [\n",
    "            {\n",
    "                \"selector\": \".row_heading, .blank\", \"props\": [\n",
    "                    (\"display\", \"none;\"),\n",
    "                    # ('border-bottom', '2px solid #e3987b')\n",
    "                ]\n",
    "            },\n",
    "            {'selector': 'th', 'props': [\n",
    "                ('font-size', '8pt'),\n",
    "                ('text-align', 'right'),\n",
    "                ('max-width', '35px'),\n",
    "                ('border-bottom', '3px solid #acacad')\n",
    "            ]}\n",
    "        ]\n",
    "    )\n",
    "    idx = pd.IndexSlice\n",
    "    fdf_styled = fdf_styled.set_properties(**{\"background-color\": \"#d4e1ff\"}, subset=idx[idxs,:])\n",
    "    return fdf_styled\n"
   ]
  },
  {
   "cell_type": "code",
   "execution_count": 23,
   "metadata": {},
   "outputs": [],
   "source": [
    "appl_df_1 = preproc_app_df(application_df_1a)\n",
    "appr_df_1 = preproc_app_df(approval_df_1a)\n",
    "appl_df_2 = create_styled_table(appl_df_1)\n",
    "appr_df_2 = create_styled_table(appr_df_1)"
   ]
  },
  {
   "cell_type": "markdown",
   "metadata": {},
   "source": [
    "---\n",
    "### Top 3 sectors"
   ]
  },
  {
   "cell_type": "code",
   "execution_count": 24,
   "metadata": {},
   "outputs": [],
   "source": [
    "# lowest = application_df_1.query('Year == 2020').query('Month == 4').index[0]\n",
    "# latest = application_df_1.index[-1]\n",
    "# window = int(latest-lowest)\n",
    "# print(window, type(window))\n",
    "\n",
    "# top_3_recoveries = application_df_1[purposes].diff(window).iloc[-1].sort_values(ascending=False)[:3].index\n",
    "# top_3_recoveries"
   ]
  },
  {
   "cell_type": "code",
   "execution_count": 25,
   "metadata": {},
   "outputs": [],
   "source": [
    "def plot_multi_lines_2(df, x_axis, y_axes):\n",
    "    colors = [\"rgb(252, 32, 3)\", \"rgb(255, 172, 161, 0.5)\", \"rgb(0, 176, 88)\", \"rgb(149, 240, 194, 0.5)\"]\n",
    "    opacitys = [1, 0.5, 1, 0.5]\n",
    "    fig = go.Figure()\n",
    "    for col, color, opacity in zip(y_axes, colors, opacitys):\n",
    "        fig.add_trace(go.Scatter(x=df[x_axis], y=df[col]/1000, name=col, \n",
    "                                 line=dict(\n",
    "                                     # opacity=opacity,\n",
    "                                     color=color\n",
    "                                 )\n",
    "                                )\n",
    "                     )\n",
    "    fig.update_xaxes(dtick='M12')\n",
    "    return fig\n",
    "\n",
    "def appl_vs_approv(col, smooth=True):\n",
    "    p_df = application_df_1[['year_month',col]].rename(columns={col:'Application'})\\\n",
    "                        .merge(approval_df_1[['year_month',col]].rename(columns={col:'Approval'})).copy()\n",
    "    if smooth:\n",
    "        p_df['Application (Avg)'] = p_df['Application'].rolling(12).mean()\n",
    "        p_df['Approval (Avg)'] = p_df['Approval'].rolling(12).mean()\n",
    "    fig = plot_multi_lines_2(p_df, 'year_month', ['Application (Avg)', 'Application','Approval (Avg)', 'Approval'])\n",
    "    fig = add_title(fig, col + \" (Rolling 12 Months Average)\")\n",
    "    return fig\n",
    "\n",
    "def create_loan_fig(col, dts_1, dts_2):\n",
    "    fig6a = appl_vs_approv(col)\n",
    "\n",
    "    fillcolor = \"#a7becf\"\n",
    "    layer = \"below\"\n",
    "    dt1, dt2 = dts_1\n",
    "    dt1b, dt2b = dts_2\n",
    "    fig6a.add_shape(type=\"rect\",\n",
    "                            xref=\"x\",\n",
    "                            yref=\"paper\",\n",
    "                            x0=dt1,\n",
    "                            y0=0,\n",
    "                            x1=dt2,\n",
    "                            y1=1,\n",
    "                            line=dict(color=\"rgba(0,0,0,0)\",width=3,),\n",
    "                            fillcolor=fillcolor,\n",
    "                            layer=layer) \n",
    "    fig6a.add_shape(type=\"rect\",\n",
    "                            xref=\"x\",\n",
    "                            yref=\"paper\",\n",
    "                            x0=dt1b,\n",
    "                            y0=0,\n",
    "                            x1=dt2b,\n",
    "                            y1=1,\n",
    "                            line=dict(color=\"rgba(0,0,0,0)\",width=3,),\n",
    "                            fillcolor=fillcolor,\n",
    "                            layer=layer) \n",
    "    fig = fig6a.update_layout(\n",
    "        autosize=False,\n",
    "        width=width,\n",
    "        height=height,)\n",
    "    return fig\n"
   ]
  },
  {
   "cell_type": "code",
   "execution_count": 26,
   "metadata": {},
   "outputs": [],
   "source": [
    "app_cols = [\"Passenger cars\", \"Residential mortgages\", \"Credit cards\", \"Working capital\"]\n",
    "app_cols_2 = [\"Passenger Cars\", \"Residential Mortgages\", \"Credit cards\", \"Working Capital\"]\n",
    "\n",
    "dates_1 = [(\"2013-01-01\", \"2013-12-31\"), (\"2013-10-01\", \"2014-12-31\"), (\"2017-01-01\", \"2018-12-31\"), (\"2015-12-01\", \"2016-09-30\")]\n",
    "dates_2 = [(\"2021-01-01\", \"2022-01-31\"), (\"2021-01-01\", \"2022-01-31\"), (\"2021-01-01\", \"2022-01-31\"), (\"2020-02-01\", \"2020-12-31\")]"
   ]
  },
  {
   "cell_type": "code",
   "execution_count": 27,
   "metadata": {},
   "outputs": [],
   "source": [
    "figs = []\n",
    "for col, dts_1, dts_2 in zip(app_cols, dates_1, dates_2):\n",
    "    figs.append(create_loan_fig(col, dts_1, dts_2))"
   ]
  },
  {
   "cell_type": "code",
   "execution_count": 28,
   "metadata": {},
   "outputs": [],
   "source": [
    "purpose_texts = []\n",
    "for col in app_cols:\n",
    "    v1 = appl_df_1.loc[col, :][-1]\n",
    "    v2 = appr_df_1.loc[col, :][-1]\n",
    "    txt = \"{} Application YoY Change is {:.2f}%, Approval YoY Change is {:.2f}%\".format(col, v1, v2)\n",
    "    purpose_texts.append(txt)\n"
   ]
  },
  {
   "cell_type": "markdown",
   "metadata": {},
   "source": [
    "### Generate PDF"
   ]
  },
  {
   "cell_type": "code",
   "execution_count": 29,
   "metadata": {},
   "outputs": [
    {
     "name": "stdout",
     "output_type": "stream",
     "text": [
      "CPU times: total: 4.95 s\n",
      "Wall time: 8.56 s\n"
     ]
    }
   ],
   "source": [
    "%%time\n",
    "# dt = pd.to_datetime(loan_last_date)\n",
    "dt = datetime.now()\n",
    "date_filename = dt.strftime(\"%Y-%m-%d\")\n",
    "date_time = dt.strftime(\"%B %Y\")\n",
    "title = \"Bank Loan Stats\"\n",
    "data = {\n",
    "    \"title\": title,\n",
    "    \"date_time_str\": f\"{date_time} Update\",\n",
    "    \"fig_overview\": encode_graph(fig_overview),\n",
    "    \"overview_text\": overview_text,\n",
    "    \"fig_loan\": encode_graph(fig_loan),\n",
    "    \"loan_text\": loan_text,\n",
    "    \"fig_application\": encode_graph(fig_application),\n",
    "    \"fig_approval\": encode_graph(fig_approval),\n",
    "    \"appl_df_2\": appl_df_2.to_html(),\n",
    "    \"appr_df_2\": appr_df_2.to_html(),\n",
    "    \"fig_titles\": app_cols_2,\n",
    "    \"figs\": [encode_graph(fig) for fig in figs],\n",
    "    \"purpose_texts\": purpose_texts, \n",
    "    \"figs_N\": len(figs),\n",
    "}\n",
    "\n",
    "output_html_filename = f\"output/{title}-{date_filename}.html\"\n",
    "output_pdf_filename = f\"output/{title}-{date_filename}.pdf\"\n",
    "render_html(data, output_filename=output_html_filename,\n",
    "            input_template_filename=\"bank_loan_stats_template.html\")\n",
    "os.add_dll_directory(r\"C:\\Program Files\\GTK3-Runtime Win64\\bin\")\n",
    "doc_1 = weasyprint.HTML(filename=output_html_filename)\n",
    "doc_pdf = doc_1.write_pdf(output_pdf_filename)\n"
   ]
  },
  {
   "cell_type": "code",
   "execution_count": null,
   "metadata": {},
   "outputs": [],
   "source": []
  },
  {
   "cell_type": "code",
   "execution_count": null,
   "metadata": {},
   "outputs": [],
   "source": []
  },
  {
   "cell_type": "code",
   "execution_count": null,
   "metadata": {},
   "outputs": [],
   "source": []
  },
  {
   "cell_type": "code",
   "execution_count": null,
   "metadata": {},
   "outputs": [],
   "source": []
  },
  {
   "cell_type": "code",
   "execution_count": null,
   "metadata": {},
   "outputs": [],
   "source": []
  }
 ],
 "metadata": {
  "kernelspec": {
   "display_name": "Python 3 (sandboxed)",
   "language": "python",
   "name": "python3"
  },
  "language_info": {
   "codemirror_mode": {
    "name": "ipython",
    "version": 3
   },
   "file_extension": ".py",
   "mimetype": "text/x-python",
   "name": "python",
   "nbconvert_exporter": "python",
   "pygments_lexer": "ipython3",
   "version": "3.7.1"
  }
 },
 "nbformat": 4,
 "nbformat_minor": 4
}
